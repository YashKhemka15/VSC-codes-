{
 "cells": [
  {
   "cell_type": "code",
   "execution_count": 58,
   "metadata": {},
   "outputs": [
    {
     "name": "stdout",
     "output_type": "stream",
     "text": [
      "[*********************100%***********************]  1 of 1 completed\n",
      "                 Open       High        Low      Close  Adj Close     Volume\n",
      "Date                                                                        \n",
      "2019-01-02  38.722500  39.712502  38.557499  39.480000  38.047050  148158800\n",
      "2019-01-03  35.994999  36.430000  35.500000  35.547501  34.257275  365248800\n",
      "2019-01-04  36.132500  37.137501  35.950001  37.064999  35.719696  234428400\n",
      "2019-01-07  37.174999  37.207500  36.474998  36.982498  35.640202  219111200\n",
      "2019-01-08  37.389999  37.955002  37.130001  37.687500  36.319599  164101200\n"
     ]
    }
   ],
   "source": [
    "import numpy as np\n",
    "import matplotlib.pyplot as plt \n",
    "import pandas as pd\n",
    "import yfinance as yf\n",
    "data=yf.download(\"AAPL\",start='2019-01-01',end='2023-01-01')\n",
    "print(data.head())"
   ]
  },
  {
   "cell_type": "code",
   "execution_count": 59,
   "metadata": {},
   "outputs": [],
   "source": [
    "from statsmodels.tsa.stattools import adfuller\n",
    "\n",
    "def ad_test(dataset):\n",
    "    dftest= adfuller(dataset, autolag='AIC')\n",
    "    print(\"ADF:\",dftest[0])\n",
    "    print(\"p-value:\",dftest[1])\n",
    "    print(\"Number of lags:\",dftest[2])\n",
    "    print(\"Number of observations:\",dftest[3])\n"
   ]
  },
  {
   "cell_type": "code",
   "execution_count": 60,
   "metadata": {},
   "outputs": [
    {
     "name": "stdout",
     "output_type": "stream",
     "text": [
      "ADF: -3.031819422159775\n",
      "p-value: 0.03202783263543172\n",
      "Number of lags: 10\n",
      "Number of observations: 997\n"
     ]
    }
   ],
   "source": [
    "data['Close'] =np.log(data['Close'])\n",
    "data['Close'] =np.log(data['Close'])\n",
    "data['Close'] =np.log(data['Close'])\n",
    "data['Close'] =np.log(data['Close'])\n",
    "ad_test(data['Close'])"
   ]
  },
  {
   "cell_type": "code",
   "execution_count": 71,
   "metadata": {},
   "outputs": [
    {
     "data": {
      "text/html": [
       "<div>\n",
       "<style scoped>\n",
       "    .dataframe tbody tr th:only-of-type {\n",
       "        vertical-align: middle;\n",
       "    }\n",
       "\n",
       "    .dataframe tbody tr th {\n",
       "        vertical-align: top;\n",
       "    }\n",
       "\n",
       "    .dataframe thead th {\n",
       "        text-align: right;\n",
       "    }\n",
       "</style>\n",
       "<table border=\"1\" class=\"dataframe\">\n",
       "  <thead>\n",
       "    <tr style=\"text-align: right;\">\n",
       "      <th></th>\n",
       "      <th>Open</th>\n",
       "      <th>High</th>\n",
       "      <th>Low</th>\n",
       "      <th>Close</th>\n",
       "      <th>Adj Close</th>\n",
       "      <th>Volume</th>\n",
       "    </tr>\n",
       "    <tr>\n",
       "      <th>Date</th>\n",
       "      <th></th>\n",
       "      <th></th>\n",
       "      <th></th>\n",
       "      <th></th>\n",
       "      <th></th>\n",
       "      <th></th>\n",
       "    </tr>\n",
       "  </thead>\n",
       "  <tbody>\n",
       "    <tr>\n",
       "      <th>2019-01-02</th>\n",
       "      <td>38.722500</td>\n",
       "      <td>39.712502</td>\n",
       "      <td>38.557499</td>\n",
       "      <td>-1.332851</td>\n",
       "      <td>38.047050</td>\n",
       "      <td>148158800</td>\n",
       "    </tr>\n",
       "    <tr>\n",
       "      <th>2019-01-03</th>\n",
       "      <td>35.994999</td>\n",
       "      <td>36.430000</td>\n",
       "      <td>35.500000</td>\n",
       "      <td>-1.422019</td>\n",
       "      <td>34.257275</td>\n",
       "      <td>365248800</td>\n",
       "    </tr>\n",
       "    <tr>\n",
       "      <th>2019-01-04</th>\n",
       "      <td>36.132500</td>\n",
       "      <td>37.137501</td>\n",
       "      <td>35.950001</td>\n",
       "      <td>-1.384979</td>\n",
       "      <td>35.719696</td>\n",
       "      <td>234428400</td>\n",
       "    </tr>\n",
       "    <tr>\n",
       "      <th>2019-01-07</th>\n",
       "      <td>37.174999</td>\n",
       "      <td>37.207500</td>\n",
       "      <td>36.474998</td>\n",
       "      <td>-1.386900</td>\n",
       "      <td>35.640202</td>\n",
       "      <td>219111200</td>\n",
       "    </tr>\n",
       "    <tr>\n",
       "      <th>2019-01-08</th>\n",
       "      <td>37.389999</td>\n",
       "      <td>37.955002</td>\n",
       "      <td>37.130001</td>\n",
       "      <td>-1.370800</td>\n",
       "      <td>36.319599</td>\n",
       "      <td>164101200</td>\n",
       "    </tr>\n",
       "  </tbody>\n",
       "</table>\n",
       "</div>"
      ],
      "text/plain": [
       "                 Open       High        Low     Close  Adj Close     Volume\n",
       "Date                                                                       \n",
       "2019-01-02  38.722500  39.712502  38.557499 -1.332851  38.047050  148158800\n",
       "2019-01-03  35.994999  36.430000  35.500000 -1.422019  34.257275  365248800\n",
       "2019-01-04  36.132500  37.137501  35.950001 -1.384979  35.719696  234428400\n",
       "2019-01-07  37.174999  37.207500  36.474998 -1.386900  35.640202  219111200\n",
       "2019-01-08  37.389999  37.955002  37.130001 -1.370800  36.319599  164101200"
      ]
     },
     "execution_count": 71,
     "metadata": {},
     "output_type": "execute_result"
    }
   ],
   "source": [
    "data.head()"
   ]
  },
  {
   "cell_type": "code",
   "execution_count": 61,
   "metadata": {},
   "outputs": [],
   "source": [
    "from pmdarima import auto_arima\n",
    "import warnings\n",
    "warnings.filterwarnings('ignore')"
   ]
  },
  {
   "cell_type": "code",
   "execution_count": 62,
   "metadata": {},
   "outputs": [
    {
     "name": "stdout",
     "output_type": "stream",
     "text": [
      "Performing stepwise search to minimize aic\n",
      " ARIMA(2,2,2)(0,0,0)[0]             : AIC=inf, Time=0.55 sec\n",
      " ARIMA(0,2,0)(0,0,0)[0]             : AIC=-5788.970, Time=0.06 sec\n",
      " ARIMA(1,2,0)(0,0,0)[0]             : AIC=-6209.431, Time=0.08 sec\n",
      " ARIMA(0,2,1)(0,0,0)[0]             : AIC=-6550.208, Time=0.06 sec\n",
      " ARIMA(1,2,1)(0,0,0)[0]             : AIC=-6544.259, Time=0.17 sec\n",
      " ARIMA(0,2,2)(0,0,0)[0]             : AIC=-6589.181, Time=0.39 sec\n",
      " ARIMA(1,2,2)(0,0,0)[0]             : AIC=-6559.946, Time=0.09 sec\n",
      " ARIMA(0,2,3)(0,0,0)[0]             : AIC=-6611.756, Time=0.66 sec\n",
      " ARIMA(1,2,3)(0,0,0)[0]             : AIC=inf, Time=0.89 sec\n",
      " ARIMA(0,2,4)(0,0,0)[0]             : AIC=-6647.469, Time=0.69 sec\n",
      " ARIMA(1,2,4)(0,0,0)[0]             : AIC=-6618.483, Time=0.64 sec\n",
      " ARIMA(0,2,5)(0,0,0)[0]             : AIC=-6621.804, Time=1.51 sec\n",
      " ARIMA(1,2,5)(0,0,0)[0]             : AIC=-6627.596, Time=0.68 sec\n",
      " ARIMA(0,2,4)(0,0,0)[0] intercept   : AIC=inf, Time=0.84 sec\n",
      "\n",
      "Best model:  ARIMA(0,2,4)(0,0,0)[0]          \n",
      "Total fit time: 7.322 seconds\n"
     ]
    },
    {
     "data": {
      "text/html": [
       "<table class=\"simpletable\">\n",
       "<caption>SARIMAX Results</caption>\n",
       "<tr>\n",
       "  <th>Dep. Variable:</th>           <td>y</td>        <th>  No. Observations:  </th>   <td>1008</td>   \n",
       "</tr>\n",
       "<tr>\n",
       "  <th>Model:</th>           <td>SARIMAX(0, 2, 4)</td> <th>  Log Likelihood     </th> <td>3328.734</td> \n",
       "</tr>\n",
       "<tr>\n",
       "  <th>Date:</th>            <td>Thu, 23 Mar 2023</td> <th>  AIC                </th> <td>-6647.469</td>\n",
       "</tr>\n",
       "<tr>\n",
       "  <th>Time:</th>                <td>22:05:43</td>     <th>  BIC                </th> <td>-6622.900</td>\n",
       "</tr>\n",
       "<tr>\n",
       "  <th>Sample:</th>                  <td>0</td>        <th>  HQIC               </th> <td>-6638.134</td>\n",
       "</tr>\n",
       "<tr>\n",
       "  <th></th>                      <td> - 1008</td>     <th>                     </th>     <td> </td>    \n",
       "</tr>\n",
       "<tr>\n",
       "  <th>Covariance Type:</th>        <td>opg</td>       <th>                     </th>     <td> </td>    \n",
       "</tr>\n",
       "</table>\n",
       "<table class=\"simpletable\">\n",
       "<tr>\n",
       "     <td></td>       <th>coef</th>     <th>std err</th>      <th>z</th>      <th>P>|z|</th>  <th>[0.025</th>    <th>0.975]</th>  \n",
       "</tr>\n",
       "<tr>\n",
       "  <th>ma.L1</th>  <td>   -1.2070</td> <td>    0.017</td> <td>  -69.824</td> <td> 0.000</td> <td>   -1.241</td> <td>   -1.173</td>\n",
       "</tr>\n",
       "<tr>\n",
       "  <th>ma.L2</th>  <td>    0.2608</td> <td>    0.023</td> <td>   11.110</td> <td> 0.000</td> <td>    0.215</td> <td>    0.307</td>\n",
       "</tr>\n",
       "<tr>\n",
       "  <th>ma.L3</th>  <td>   -0.0547</td> <td>    0.024</td> <td>   -2.294</td> <td> 0.022</td> <td>   -0.101</td> <td>   -0.008</td>\n",
       "</tr>\n",
       "<tr>\n",
       "  <th>ma.L4</th>  <td>    0.0115</td> <td>    0.020</td> <td>    0.581</td> <td> 0.561</td> <td>   -0.027</td> <td>    0.050</td>\n",
       "</tr>\n",
       "<tr>\n",
       "  <th>sigma2</th> <td> 7.795e-05</td> <td>  1.6e-06</td> <td>   48.757</td> <td> 0.000</td> <td> 7.48e-05</td> <td> 8.11e-05</td>\n",
       "</tr>\n",
       "</table>\n",
       "<table class=\"simpletable\">\n",
       "<tr>\n",
       "  <th>Ljung-Box (L1) (Q):</th>     <td>7.12</td> <th>  Jarque-Bera (JB):  </th> <td>6987.62</td>\n",
       "</tr>\n",
       "<tr>\n",
       "  <th>Prob(Q):</th>                <td>0.01</td> <th>  Prob(JB):          </th>  <td>0.00</td>  \n",
       "</tr>\n",
       "<tr>\n",
       "  <th>Heteroskedasticity (H):</th> <td>0.18</td> <th>  Skew:              </th>  <td>0.61</td>  \n",
       "</tr>\n",
       "<tr>\n",
       "  <th>Prob(H) (two-sided):</th>    <td>0.00</td> <th>  Kurtosis:          </th>  <td>15.85</td> \n",
       "</tr>\n",
       "</table><br/><br/>Warnings:<br/>[1] Covariance matrix calculated using the outer product of gradients (complex-step)."
      ],
      "text/plain": [
       "<class 'statsmodels.iolib.summary.Summary'>\n",
       "\"\"\"\n",
       "                               SARIMAX Results                                \n",
       "==============================================================================\n",
       "Dep. Variable:                      y   No. Observations:                 1008\n",
       "Model:               SARIMAX(0, 2, 4)   Log Likelihood                3328.734\n",
       "Date:                Thu, 23 Mar 2023   AIC                          -6647.469\n",
       "Time:                        22:05:43   BIC                          -6622.900\n",
       "Sample:                             0   HQIC                         -6638.134\n",
       "                               - 1008                                         \n",
       "Covariance Type:                  opg                                         \n",
       "==============================================================================\n",
       "                 coef    std err          z      P>|z|      [0.025      0.975]\n",
       "------------------------------------------------------------------------------\n",
       "ma.L1         -1.2070      0.017    -69.824      0.000      -1.241      -1.173\n",
       "ma.L2          0.2608      0.023     11.110      0.000       0.215       0.307\n",
       "ma.L3         -0.0547      0.024     -2.294      0.022      -0.101      -0.008\n",
       "ma.L4          0.0115      0.020      0.581      0.561      -0.027       0.050\n",
       "sigma2      7.795e-05    1.6e-06     48.757      0.000    7.48e-05    8.11e-05\n",
       "===================================================================================\n",
       "Ljung-Box (L1) (Q):                   7.12   Jarque-Bera (JB):              6987.62\n",
       "Prob(Q):                              0.01   Prob(JB):                         0.00\n",
       "Heteroskedasticity (H):               0.18   Skew:                             0.61\n",
       "Prob(H) (two-sided):                  0.00   Kurtosis:                        15.85\n",
       "===================================================================================\n",
       "\n",
       "Warnings:\n",
       "[1] Covariance matrix calculated using the outer product of gradients (complex-step).\n",
       "\"\"\""
      ]
     },
     "execution_count": 62,
     "metadata": {},
     "output_type": "execute_result"
    }
   ],
   "source": [
    "stepwise_fit = auto_arima(data['Close'], trace=True, suppress_warnings=True)\n",
    "stepwise_fit.summary()"
   ]
  },
  {
   "cell_type": "code",
   "execution_count": 66,
   "metadata": {},
   "outputs": [],
   "source": [
    "from statsmodels.tsa.arima.model import ARIMA"
   ]
  },
  {
   "cell_type": "code",
   "execution_count": 76,
   "metadata": {},
   "outputs": [],
   "source": [
    "train=data.iloc[:-30]\n",
    "test=data.iloc[-30:]"
   ]
  },
  {
   "cell_type": "code",
   "execution_count": 67,
   "metadata": {},
   "outputs": [
    {
     "data": {
      "text/html": [
       "<table class=\"simpletable\">\n",
       "<caption>SARIMAX Results</caption>\n",
       "<tr>\n",
       "  <th>Dep. Variable:</th>         <td>Close</td>      <th>  No. Observations:  </th>    <td>978</td>   \n",
       "</tr>\n",
       "<tr>\n",
       "  <th>Model:</th>            <td>ARIMA(0, 2, 4)</td>  <th>  Log Likelihood     </th> <td>3219.157</td> \n",
       "</tr>\n",
       "<tr>\n",
       "  <th>Date:</th>            <td>Thu, 23 Mar 2023</td> <th>  AIC                </th> <td>-6428.314</td>\n",
       "</tr>\n",
       "<tr>\n",
       "  <th>Time:</th>                <td>22:11:37</td>     <th>  BIC                </th> <td>-6403.896</td>\n",
       "</tr>\n",
       "<tr>\n",
       "  <th>Sample:</th>                  <td>0</td>        <th>  HQIC               </th> <td>-6419.022</td>\n",
       "</tr>\n",
       "<tr>\n",
       "  <th></th>                      <td> - 978</td>      <th>                     </th>     <td> </td>    \n",
       "</tr>\n",
       "<tr>\n",
       "  <th>Covariance Type:</th>        <td>opg</td>       <th>                     </th>     <td> </td>    \n",
       "</tr>\n",
       "</table>\n",
       "<table class=\"simpletable\">\n",
       "<tr>\n",
       "     <td></td>       <th>coef</th>     <th>std err</th>      <th>z</th>      <th>P>|z|</th>  <th>[0.025</th>    <th>0.975]</th>  \n",
       "</tr>\n",
       "<tr>\n",
       "  <th>ma.L1</th>  <td>   -1.1872</td> <td>    0.018</td> <td>  -67.070</td> <td> 0.000</td> <td>   -1.222</td> <td>   -1.152</td>\n",
       "</tr>\n",
       "<tr>\n",
       "  <th>ma.L2</th>  <td>    0.2476</td> <td>    0.023</td> <td>   10.855</td> <td> 0.000</td> <td>    0.203</td> <td>    0.292</td>\n",
       "</tr>\n",
       "<tr>\n",
       "  <th>ma.L3</th>  <td>   -0.0855</td> <td>    0.024</td> <td>   -3.513</td> <td> 0.000</td> <td>   -0.133</td> <td>   -0.038</td>\n",
       "</tr>\n",
       "<tr>\n",
       "  <th>ma.L4</th>  <td>    0.0402</td> <td>    0.021</td> <td>    1.942</td> <td> 0.052</td> <td>   -0.000</td> <td>    0.081</td>\n",
       "</tr>\n",
       "<tr>\n",
       "  <th>sigma2</th> <td> 7.961e-05</td> <td> 1.66e-06</td> <td>   47.858</td> <td> 0.000</td> <td> 7.64e-05</td> <td> 8.29e-05</td>\n",
       "</tr>\n",
       "</table>\n",
       "<table class=\"simpletable\">\n",
       "<tr>\n",
       "  <th>Ljung-Box (L1) (Q):</th>     <td>4.37</td> <th>  Jarque-Bera (JB):  </th> <td>7069.31</td>\n",
       "</tr>\n",
       "<tr>\n",
       "  <th>Prob(Q):</th>                <td>0.04</td> <th>  Prob(JB):          </th>  <td>0.00</td>  \n",
       "</tr>\n",
       "<tr>\n",
       "  <th>Heteroskedasticity (H):</th> <td>0.17</td> <th>  Skew:              </th>  <td>0.68</td>  \n",
       "</tr>\n",
       "<tr>\n",
       "  <th>Prob(H) (two-sided):</th>    <td>0.00</td> <th>  Kurtosis:          </th>  <td>16.11</td> \n",
       "</tr>\n",
       "</table><br/><br/>Warnings:<br/>[1] Covariance matrix calculated using the outer product of gradients (complex-step)."
      ],
      "text/plain": [
       "<class 'statsmodels.iolib.summary.Summary'>\n",
       "\"\"\"\n",
       "                               SARIMAX Results                                \n",
       "==============================================================================\n",
       "Dep. Variable:                  Close   No. Observations:                  978\n",
       "Model:                 ARIMA(0, 2, 4)   Log Likelihood                3219.157\n",
       "Date:                Thu, 23 Mar 2023   AIC                          -6428.314\n",
       "Time:                        22:11:37   BIC                          -6403.896\n",
       "Sample:                             0   HQIC                         -6419.022\n",
       "                                - 978                                         \n",
       "Covariance Type:                  opg                                         \n",
       "==============================================================================\n",
       "                 coef    std err          z      P>|z|      [0.025      0.975]\n",
       "------------------------------------------------------------------------------\n",
       "ma.L1         -1.1872      0.018    -67.070      0.000      -1.222      -1.152\n",
       "ma.L2          0.2476      0.023     10.855      0.000       0.203       0.292\n",
       "ma.L3         -0.0855      0.024     -3.513      0.000      -0.133      -0.038\n",
       "ma.L4          0.0402      0.021      1.942      0.052      -0.000       0.081\n",
       "sigma2      7.961e-05   1.66e-06     47.858      0.000    7.64e-05    8.29e-05\n",
       "===================================================================================\n",
       "Ljung-Box (L1) (Q):                   4.37   Jarque-Bera (JB):              7069.31\n",
       "Prob(Q):                              0.04   Prob(JB):                         0.00\n",
       "Heteroskedasticity (H):               0.17   Skew:                             0.68\n",
       "Prob(H) (two-sided):                  0.00   Kurtosis:                        16.11\n",
       "===================================================================================\n",
       "\n",
       "Warnings:\n",
       "[1] Covariance matrix calculated using the outer product of gradients (complex-step).\n",
       "\"\"\""
      ]
     },
     "execution_count": 67,
     "metadata": {},
     "output_type": "execute_result"
    }
   ],
   "source": [
    "model=ARIMA(train['Close'],order=(0,2,4))\n",
    "model=model.fit()\n",
    "model.summary()"
   ]
  },
  {
   "cell_type": "code",
   "execution_count": 68,
   "metadata": {},
   "outputs": [
    {
     "name": "stdout",
     "output_type": "stream",
     "text": [
      "978    -0.741533\n",
      "979    -0.741747\n",
      "980    -0.741744\n",
      "981    -0.741782\n",
      "982    -0.741821\n",
      "983    -0.741859\n",
      "984    -0.741897\n",
      "985    -0.741935\n",
      "986    -0.741974\n",
      "987    -0.742012\n",
      "988    -0.742050\n",
      "989    -0.742089\n",
      "990    -0.742127\n",
      "991    -0.742165\n",
      "992    -0.742203\n",
      "993    -0.742242\n",
      "994    -0.742280\n",
      "995    -0.742318\n",
      "996    -0.742356\n",
      "997    -0.742395\n",
      "998    -0.742433\n",
      "999    -0.742471\n",
      "1000   -0.742510\n",
      "1001   -0.742548\n",
      "1002   -0.742586\n",
      "1003   -0.742624\n",
      "1004   -0.742663\n",
      "1005   -0.742701\n",
      "1006   -0.742739\n",
      "1007   -0.742778\n",
      "Name: predicted_mean, dtype: float64\n"
     ]
    }
   ],
   "source": [
    "start=len(train)\n",
    "end=len(train)+len(test)-1\n",
    "pred=model.predict(start=start,end=end,typ=\"levels\")\n",
    "\n"
   ]
  },
  {
   "cell_type": "code",
   "execution_count": 69,
   "metadata": {},
   "outputs": [
    {
     "name": "stdout",
     "output_type": "stream",
     "text": [
      "978     149.009477\n",
      "979     148.887395\n",
      "980     148.888995\n",
      "981     148.867128\n",
      "982     148.845267\n",
      "983     148.823411\n",
      "984     148.801559\n",
      "985     148.779713\n",
      "986     148.757872\n",
      "987     148.736036\n",
      "988     148.714205\n",
      "989     148.692379\n",
      "990     148.670559\n",
      "991     148.648743\n",
      "992     148.626932\n",
      "993     148.605127\n",
      "994     148.583326\n",
      "995     148.561531\n",
      "996     148.539741\n",
      "997     148.517955\n",
      "998     148.496175\n",
      "999     148.474400\n",
      "1000    148.452630\n",
      "1001    148.430865\n",
      "1002    148.409105\n",
      "1003    148.387350\n",
      "1004    148.365600\n",
      "1005    148.343855\n",
      "1006    148.322116\n",
      "1007    148.300381\n",
      "Name: predicted_mean, dtype: float64\n"
     ]
    }
   ],
   "source": [
    "pred=np.exp(pred)\n",
    "pred=np.exp(pred)\n",
    "pred=np.exp(pred)\n",
    "pred=np.exp(pred)\n"
   ]
  },
  {
   "cell_type": "code",
   "execution_count": 74,
   "metadata": {},
   "outputs": [],
   "source": [
    "data['Close'] =np.exp(data['Close'])\n",
    "data['Close'] =np.exp(data['Close'])\n",
    "data['Close'] =np.exp(data['Close'])\n",
    "data['Close'] =np.exp(data['Close'])"
   ]
  },
  {
   "cell_type": "code",
   "execution_count": 72,
   "metadata": {},
   "outputs": [
    {
     "name": "stdout",
     "output_type": "stream",
     "text": [
      "Date\n",
      "2022-11-17    149.009477\n",
      "2022-11-18    148.887395\n",
      "2022-11-21    148.888995\n",
      "2022-11-22    148.867128\n",
      "2022-11-23    148.845267\n",
      "2022-11-25    148.823411\n",
      "2022-11-28    148.801559\n",
      "2022-11-29    148.779713\n",
      "2022-11-30    148.757872\n",
      "2022-12-01    148.736036\n",
      "2022-12-02    148.714205\n",
      "2022-12-05    148.692379\n",
      "2022-12-06    148.670559\n",
      "2022-12-07    148.648743\n",
      "2022-12-08    148.626932\n",
      "2022-12-09    148.605127\n",
      "2022-12-12    148.583326\n",
      "2022-12-13    148.561531\n",
      "2022-12-14    148.539741\n",
      "2022-12-15    148.517955\n",
      "2022-12-16    148.496175\n",
      "2022-12-19    148.474400\n",
      "2022-12-20    148.452630\n",
      "2022-12-21    148.430865\n",
      "2022-12-22    148.409105\n",
      "2022-12-23    148.387350\n",
      "2022-12-27    148.365600\n",
      "2022-12-28    148.343855\n",
      "2022-12-29    148.322116\n",
      "2022-12-30    148.300381\n",
      "Name: predicted_mean, dtype: float64\n"
     ]
    }
   ],
   "source": [
    "pred.index=data.index[start:end+1]\n",
    "print(pred)"
   ]
  },
  {
   "cell_type": "code",
   "execution_count": 77,
   "metadata": {},
   "outputs": [
    {
     "data": {
      "text/plain": [
       "<Axes: xlabel='Date'>"
      ]
     },
     "execution_count": 77,
     "metadata": {},
     "output_type": "execute_result"
    },
    {
     "data": {
      "image/png": "[encoded data removed]",
      "text/plain": [
       "<Figure size 640x480 with 1 Axes>"
      ]
     },
     "metadata": {},
     "output_type": "display_data"
    }
   ],
   "source": [
    "pred.plot(legend=True)\n",
    "test['Close'].plot(legend=True)"
   ]
  }
 ],
 "metadata": {
  "kernelspec": {
   "display_name": "Python 3",
   "language": "python",
   "name": "python3"
  },
  "language_info": {
   "codemirror_mode": {
    "name": "ipython",
    "version": 3
   },
   "file_extension": ".py",
   "mimetype": "text/x-python",
   "name": "python",
   "nbconvert_exporter": "python",
   "pygments_lexer": "ipython3",
   "version": "3.10.10"
  },
  "orig_nbformat": 4
 },
 "nbformat": 4,
 "nbformat_minor": 2
}
